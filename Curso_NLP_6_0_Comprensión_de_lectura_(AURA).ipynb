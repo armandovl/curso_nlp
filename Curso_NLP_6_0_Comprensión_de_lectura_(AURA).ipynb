{
  "nbformat": 4,
  "nbformat_minor": 0,
  "metadata": {
    "colab": {
      "name": "Curso NLP 6.0 Comprensión de lectura (AURA)",
      "provenance": [],
      "collapsed_sections": [],
      "toc_visible": true,
      "include_colab_link": true
    },
    "kernelspec": {
      "name": "python3",
      "display_name": "Python 3"
    }
  },
  "cells": [
    {
      "cell_type": "markdown",
      "metadata": {
        "id": "view-in-github",
        "colab_type": "text"
      },
      "source": [
        "<a href=\"https://colab.research.google.com/github/armandovl/curso_nlp/blob/main/Curso_NLP_6_0_Comprensi%C3%B3n_de_lectura_(AURA).ipynb\" target=\"_parent\"><img src=\"https://colab.research.google.com/assets/colab-badge.svg\" alt=\"Open In Colab\"/></a>"
      ]
    },
    {
      "cell_type": "markdown",
      "metadata": {
        "id": "vd82CFhYntkf"
      },
      "source": [
        "# Aura 2: preguntas y respuestas\n"
      ]
    },
    {
      "cell_type": "markdown",
      "metadata": {
        "id": "Up5yCiniDMEX"
      },
      "source": [
        ""
      ]
    },
    {
      "cell_type": "code",
      "metadata": {
        "id": "2e2o65JiJ4R-"
      },
      "source": [
        "!pip install transformers"
      ],
      "execution_count": null,
      "outputs": []
    },
    {
      "cell_type": "code",
      "metadata": {
        "id": "223xiMP3K9kt"
      },
      "source": [
        "# Importar\n",
        "from transformers import AutoTokenizer, AutoModelForQuestionAnswering, pipeline\n",
        "the_model = 'mrm8488/distill-bert-base-spanish-wwm-cased-finetuned-spa-squad2-es'\n",
        "tokenizer = AutoTokenizer.from_pretrained(the_model, do_lower_case=False)\n",
        "model = AutoModelForQuestionAnswering.from_pretrained(the_model)\n"
      ],
      "execution_count": null,
      "outputs": []
    },
    {
      "cell_type": "code",
      "metadata": {
        "id": "tDlFhBfJLj2d"
      },
      "source": [
        "#print(model)"
      ],
      "execution_count": null,
      "outputs": []
    },
    {
      "cell_type": "code",
      "metadata": {
        "id": "T2Em_dKRLphz"
      },
      "source": [
        "# Ejemplo tokenización\n",
        "contexto = 'Yo soy Armando'\n",
        "pregunta = '¿cómo me llamo?'\n",
        "\n",
        "encode = tokenizer.encode_plus(pregunta, contexto, return_tensors='pt')\n",
        "input_ids = encode['input_ids'].tolist()\n",
        "tokens = tokenizer.convert_ids_to_tokens(input_ids[0])\n",
        "for id, token in zip(input_ids[0], tokens):\n",
        "  print('{:<12} {:>6}'.format(token, id))\n",
        "  print('')\n"
      ],
      "execution_count": null,
      "outputs": []
    },
    {
      "cell_type": "code",
      "metadata": {
        "id": "KryC3O2aMnp-"
      },
      "source": [
        "# Ejemplo de inferencia (pregunta-respuesta)\n",
        "nlp = pipeline('question-answering', model=model, tokenizer=tokenizer)\n",
        "salida = nlp({'question':pregunta, 'context':contexto})\n",
        "print(salida)"
      ],
      "execution_count": null,
      "outputs": []
    },
    {
      "cell_type": "code",
      "metadata": {
        "id": "XA6f0-DYNu2L"
      },
      "source": [
        "from textwrap import wrap\n",
        "\n",
        "def pregunta_respuesta(model, contexto, nlp):\n",
        "\n",
        "  # Imprimir contexto\n",
        "  print('Contexto:')\n",
        "  print('-----------------')\n",
        "  print('\\n'.join(wrap(contexto)))\n",
        "\n",
        "  # Loop preguntas-respuestas:\n",
        "  continuar = True\n",
        "  while continuar:\n",
        "    print('\\nPregunta:')\n",
        "    print('-----------------')\n",
        "    pregunta = str(input())\n",
        "\n",
        "    continuar = pregunta!=''\n",
        "\n",
        "    if continuar:\n",
        "      salida = nlp({'question':pregunta, 'context':contexto})\n",
        "      print('\\nRespuesta:')\n",
        "      print('-----------------')\n",
        "      print(salida['answer'])\n",
        "\n",
        "\n",
        "\n"
      ],
      "execution_count": null,
      "outputs": []
    },
    {
      "cell_type": "code",
      "metadata": {
        "id": "64bUn-bnOz9b"
      },
      "source": [
        "pregunta_respuesta(model, contexto, nlp)"
      ],
      "execution_count": null,
      "outputs": []
    },
    {
      "cell_type": "code",
      "metadata": {
        "id": "seH6RXvpcvnM"
      },
      "source": [
        "#1#\n",
        "#lo primero que hacemos es importar el archivo de texto, en r de reescribir\n",
        "archivo=open(\"malos_soluble.txt\",\"r\")\n",
        "contexto=archivo.read() #el texto del txt se queda en la variable texto_del_archivo"
      ],
      "execution_count": null,
      "outputs": []
    },
    {
      "cell_type": "code",
      "metadata": {
        "id": "3dNeAFoooyDv"
      },
      "source": [
        "pregunta_respuesta(model, contexto, nlp)"
      ],
      "execution_count": null,
      "outputs": []
    },
    {
      "cell_type": "code",
      "metadata": {
        "id": "J1lvHNbFPI2D"
      },
      "source": [
        ""
      ],
      "execution_count": null,
      "outputs": []
    }
  ]
}