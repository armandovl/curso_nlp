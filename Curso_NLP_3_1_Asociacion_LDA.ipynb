{
  "nbformat": 4,
  "nbformat_minor": 0,
  "metadata": {
    "colab": {
      "name": "Curso NLP 3.1 Asociacion LDA.ipynb",
      "provenance": [],
      "collapsed_sections": [
        "OJNw0kYbdk1d",
        "qgr5xvIKjqkQ",
        "NZ8juUntlC-C",
        "JIrXDwnnluCI",
        "4tPopgSEo0hR",
        "_oAu3JXPqQF6",
        "N6l-6gvAs4xJ"
      ],
      "toc_visible": true,
      "include_colab_link": true
    },
    "kernelspec": {
      "name": "python3",
      "display_name": "Python 3"
    }
  },
  "cells": [
    {
      "cell_type": "markdown",
      "metadata": {
        "id": "view-in-github",
        "colab_type": "text"
      },
      "source": [
        "<a href=\"https://colab.research.google.com/github/armandovl/curso_nlp/blob/main/Curso_NLP_3_1_Asociacion_LDA.ipynb\" target=\"_parent\"><img src=\"https://colab.research.google.com/assets/colab-badge.svg\" alt=\"Open In Colab\"/></a>"
      ]
    },
    {
      "cell_type": "markdown",
      "metadata": {
        "id": "ZGQ-qxqmIm5s"
      },
      "source": [
        "<img src=\"https://i1.wp.com/www.sopitas.com/wp-content/uploads/2014/08/Tec-de-Monterrey-Logo-640x581.jpg\" width=\"70\"/> \n",
        "<h5>ITESM Campus Santa Fe <br> Armando Valdés </h5>"
      ]
    },
    {
      "cell_type": "markdown",
      "metadata": {
        "id": "1djIyZZHEgRF"
      },
      "source": [
        "### Nomenclatura\n",
        "🟠 Modificar <br>\n",
        "⏮ Repetir en caso de cambiar texto<br>\n",
        "🔘 Opcional"
      ]
    },
    {
      "cell_type": "markdown",
      "metadata": {
        "id": "OJNw0kYbdk1d"
      },
      "source": [
        "### 1.-Importar las bibliotecas"
      ]
    },
    {
      "cell_type": "code",
      "metadata": {
        "id": "JX4JaSN-Ocom"
      },
      "source": [
        "import pandas as pd #pandas para Data Frames"
      ],
      "execution_count": null,
      "outputs": []
    },
    {
      "cell_type": "code",
      "metadata": {
        "id": "ojTzvjY8N902"
      },
      "source": [
        "#para trabajar con el texto\n",
        "import nltk\n",
        "from nltk.tokenize import sent_tokenize, word_tokenize #para tokenizar en oraciones\n",
        "from nltk.stem import SnowballStemmer #para derivar"
      ],
      "execution_count": null,
      "outputs": []
    },
    {
      "cell_type": "code",
      "metadata": {
        "id": "M1UOmEZ5QB09"
      },
      "source": [
        "nltk.download('punkt') #complemeto de nltk"
      ],
      "execution_count": null,
      "outputs": []
    },
    {
      "cell_type": "code",
      "metadata": {
        "id": "HF1F0KmpZq9S"
      },
      "source": [
        "#para identificar tópicos\n",
        "import gensim  \n",
        "from gensim import corpora, models"
      ],
      "execution_count": null,
      "outputs": []
    },
    {
      "cell_type": "markdown",
      "metadata": {
        "id": "qgr5xvIKjqkQ"
      },
      "source": [
        "### 2.-Importar archivo 🟠 "
      ]
    },
    {
      "cell_type": "code",
      "metadata": {
        "id": "TwkUstyyPpsJ"
      },
      "source": [
        "archivo=open(\"malos_soluble.txt\",\"r\")\n",
        "texto_del_archivo=archivo.read()"
      ],
      "execution_count": null,
      "outputs": []
    },
    {
      "cell_type": "markdown",
      "metadata": {
        "id": "NZ8juUntlC-C"
      },
      "source": [
        "### 3.- Procesar el texto ⏮ \n",
        "Convertir texto en frases de data frames"
      ]
    },
    {
      "cell_type": "code",
      "metadata": {
        "id": "ZMGY4kXxP3lk"
      },
      "source": [
        "frases=sent_tokenize(texto_del_archivo) #tokenizar en frases\n",
        "frases=pd.DataFrame({\"Frases\":frases}) #convertir en un data Frame\n",
        "derivar=SnowballStemmer(\"spanish\") #traemos la funcion para derivar"
      ],
      "execution_count": null,
      "outputs": []
    },
    {
      "cell_type": "markdown",
      "metadata": {
        "id": "JIrXDwnnluCI"
      },
      "source": [
        "### 4.-Procesar las frases 🟠⏮  <br>\n",
        "Cambiar: longitud mínima de la palabra 3 <br>\n",
        "Cambiar : si se quiere aplicar derivación\n"
      ]
    },
    {
      "cell_type": "code",
      "metadata": {
        "id": "CCn8iTEmeMiY"
      },
      "source": [
        "#Eliminar stopwords\n",
        "#Quedarse con las palabras con una longitud superior a 4\n",
        "#Derivar si se desea\n",
        "\n",
        "def preproceso(texto_del_archivo):\n",
        "  resultado=[]\n",
        "  for token in gensim.utils.simple_preprocess(texto_del_archivo):\n",
        "    if token not in gensim.parsing.preprocessing.STOPWORDS and len(token)>4: #cambiar la longitud\n",
        "      #resultado.append(derivar.stem(token)) #cambiar para Derivación Regresiva\n",
        "      resultado.append(token)\n",
        "  return resultado"
      ],
      "execution_count": null,
      "outputs": []
    },
    {
      "cell_type": "code",
      "metadata": {
        "id": "g7T7nu5GR9xH"
      },
      "source": [
        "#⏮ \n",
        "frasesprocesadas=frases[\"Frases\"].map(preproceso)\n",
        "frasesprocesadas"
      ],
      "execution_count": null,
      "outputs": []
    },
    {
      "cell_type": "markdown",
      "metadata": {
        "id": "4tPopgSEo0hR"
      },
      "source": [
        "### 5.- Hacer diccionarios 🟠⏮ <br>\n",
        "cambiar: mínimo de apariciones  no_below=10 <br>\n",
        "(mínimo 10 veces)<br>\n",
        "cambiar % que ocupa en una frase no_above=0.5 <br>\n",
        "(no ocupe más del 50% de la frase)"
      ]
    },
    {
      "cell_type": "code",
      "metadata": {
        "id": "5R8EMLn0SXxO"
      },
      "source": [
        "diccionario=gensim.corpora.Dictionary(frasesprocesadas)\n",
        "diccionario.filter_extremes(no_below=5, no_above=0.7,keep_n=100000)\n",
        "corpus=[diccionario.doc2bow(doc) for doc in frasesprocesadas]"
      ],
      "execution_count": null,
      "outputs": []
    },
    {
      "cell_type": "markdown",
      "metadata": {
        "id": "_oAu3JXPqQF6"
      },
      "source": [
        "### 6.-Aplicar modelo LDA 🟠⏮ \n",
        "Cambiar número de tópicos deseados, y argumentos"
      ]
    },
    {
      "cell_type": "code",
      "metadata": {
        "id": "UAEFEAOeTX-s"
      },
      "source": [
        "lda_model= gensim.models.LdaMulticore(corpus,num_topics=5,id2word=diccionario,passes=3,workers=3)#semilla ,random_state=420\n",
        "for idx,topic in lda_model.print_topics(-1):\n",
        "  print(\"Tema:{} \\nPalabras: {} \\n\" .format(idx,topic))"
      ],
      "execution_count": null,
      "outputs": []
    },
    {
      "cell_type": "code",
      "metadata": {
        "id": "ZTJAGq16US-2"
      },
      "source": [
        "#coherencia mas cercano a 1, mayor coherencia\n",
        "from gensim.models.coherencemodel import CoherenceModel\n",
        "cm = CoherenceModel(model=lda_model, corpus=corpus,texts=\"café\",coherence='u_mass')\n",
        "coherence = cm.get_coherence()  # get coherence value\n",
        "print(coherence)"
      ],
      "execution_count": null,
      "outputs": []
    },
    {
      "cell_type": "markdown",
      "metadata": {
        "id": "N6l-6gvAs4xJ"
      },
      "source": [
        "### 7.-Aplicar modelo LDA alternativo 🟠⏮ \n",
        "Cambiar número de tópicos deseados, y argumentos"
      ]
    },
    {
      "cell_type": "markdown",
      "metadata": {
        "id": "WSrX13uus-R0"
      },
      "source": [
        "El corpus alternatvio se basa el el modelo tfidf <br>\n",
        "Frecuencia de los términos inversa a la frecuencia de las frases <br>\n",
        "Darle más peso aquellas palabras más representativas, compensando el efecto de que haya muchas frases muy largas con muchas palabras"
      ]
    },
    {
      "cell_type": "code",
      "metadata": {
        "id": "Z3bF7TFPVazO"
      },
      "source": [
        "#corpus alternativo\n",
        "tfidf= models.TfidfModel(corpus)\n",
        "corpus_tfidf=tfidf[corpus]"
      ],
      "execution_count": null,
      "outputs": []
    },
    {
      "cell_type": "code",
      "metadata": {
        "id": "ZWlIA8dXWLcw"
      },
      "source": [
        "lda_model= gensim.models.LdaMulticore(corpus_tfidf,num_topics=6,id2word=diccionario,passes=3,workers=3)#,random_state=223\n",
        "for idx,topic in lda_model.print_topics(-1):\n",
        "  print(\"Tema:{} \\nPalabras: {} \\n\" .format(idx,topic))"
      ],
      "execution_count": null,
      "outputs": []
    }
  ]
}