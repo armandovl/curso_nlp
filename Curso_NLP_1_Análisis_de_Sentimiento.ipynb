{
  "nbformat": 4,
  "nbformat_minor": 0,
  "metadata": {
    "colab": {
      "name": "Curso NLP 1 Análisis de Sentimiento.ipynb",
      "provenance": [],
      "collapsed_sections": [
        "m2ppUwu2uaZ9",
        "4wSIviuXumWT",
        "TT-eSpe63VE_",
        "__xdtwPS6Idw",
        "wc5MpLYN4CHj",
        "5FAfsT9Y8sdf",
        "TbL_6z8oEJ9l"
      ],
      "toc_visible": true,
      "include_colab_link": true
    },
    "kernelspec": {
      "name": "python3",
      "display_name": "Python 3"
    }
  },
  "cells": [
    {
      "cell_type": "markdown",
      "metadata": {
        "id": "view-in-github",
        "colab_type": "text"
      },
      "source": [
        "<a href=\"https://colab.research.google.com/github/armandovl/curso_nlp/blob/main/Curso_NLP_1_An%C3%A1lisis_de_Sentimiento.ipynb\" target=\"_parent\"><img src=\"https://colab.research.google.com/assets/colab-badge.svg\" alt=\"Open In Colab\"/></a>"
      ]
    },
    {
      "cell_type": "markdown",
      "metadata": {
        "id": "ElUQQYxQHniz"
      },
      "source": [
        "<img src=\"https://i1.wp.com/www.sopitas.com/wp-content/uploads/2014/08/Tec-de-Monterrey-Logo-640x581.jpg\" width=\"70\"/> \n",
        "<h5>ITESM Campus Santa Fe <br> Armando Valdés </h5>"
      ]
    },
    {
      "cell_type": "markdown",
      "metadata": {
        "id": "X5PKzi_s2dOK"
      },
      "source": [
        "### Nomenclatura\n",
        "🟠 Modificar <br>\n",
        "⏮ Repetir en caso de cambiar texto<br>\n",
        "🔘 Opcional"
      ]
    },
    {
      "cell_type": "markdown",
      "metadata": {
        "id": "m2ppUwu2uaZ9"
      },
      "source": [
        "### 1.-Importamos las bibliotecas"
      ]
    },
    {
      "cell_type": "code",
      "metadata": {
        "id": "PIzWUD4cshXP"
      },
      "source": [
        "#1#\n",
        "#Importamos las primeras bibliotecas\n",
        "import nltk #importamos nltk\n",
        "import matplotlib.pyplot as plt #importamos para graficos\n",
        "import seaborn as sns #importamos para graficos"
      ],
      "execution_count": null,
      "outputs": []
    },
    {
      "cell_type": "code",
      "metadata": {
        "id": "NB4Op6RpuUWY"
      },
      "source": [
        "#2#\n",
        "#descargamos los complementos de nltk\n",
        "nltk.download('punkt')\n",
        "nltk.download('stopwords')"
      ],
      "execution_count": null,
      "outputs": []
    },
    {
      "cell_type": "markdown",
      "metadata": {
        "id": "4wSIviuXumWT"
      },
      "source": [
        "### 🛠 2.- Importar el texto 🟠 "
      ]
    },
    {
      "cell_type": "code",
      "metadata": {
        "id": "bnxFum1ZuoO4"
      },
      "source": [
        "#3#\n",
        "#lo primero que hacemos es importar el archivo de texto, en r de reescribir\n",
        "archivo=open(\"coment_cafe_soluble.txt\",\"r\")\n",
        "texto1=archivo.read() #el texto del txt se queda en la variable texto1"
      ],
      "execution_count": null,
      "outputs": []
    },
    {
      "cell_type": "code",
      "metadata": {
        "id": "XKj6JaoY3KZ5"
      },
      "source": [
        "texto1 #🔘 ver el texto"
      ],
      "execution_count": null,
      "outputs": []
    },
    {
      "cell_type": "markdown",
      "metadata": {
        "id": "TT-eSpe63VE_"
      },
      "source": [
        "### 3.- Importamos librería para tokenizar oraciones"
      ]
    },
    {
      "cell_type": "code",
      "metadata": {
        "id": "x3AtHWxjvSBD"
      },
      "source": [
        "#4#\n",
        "#importamos otra libreria importante para tokenizar en oraciones\n",
        "import spacy\n",
        "#https://spacy.io/models/es\n",
        "!python -m spacy download es_core_news_sm"
      ],
      "execution_count": null,
      "outputs": []
    },
    {
      "cell_type": "code",
      "metadata": {
        "id": "5bq-NtQGv0J-"
      },
      "source": [
        "#5#\n",
        "#cargamos la biblioteca en español\n",
        "nlp= spacy.load('es_core_news_sm')"
      ],
      "execution_count": null,
      "outputs": []
    },
    {
      "cell_type": "code",
      "metadata": {
        "id": "yduxsi3o38O7"
      },
      "source": [
        "#en este punto se tiene que REINICIAR Y EJECUTAR TODO\n",
        "print(detente)"
      ],
      "execution_count": null,
      "outputs": []
    },
    {
      "cell_type": "markdown",
      "metadata": {
        "id": "__xdtwPS6Idw"
      },
      "source": [
        "### 4.-Tokenizamos las oraciones"
      ]
    },
    {
      "cell_type": "code",
      "metadata": {
        "id": "Y1rNF7HjwtqN"
      },
      "source": [
        "#6# ⏮ RRR\n",
        "#Para tokenizar oraciones\n",
        "oraciones_lista = []\n",
        "separator = ','\n",
        "doc=nlp(texto1) #aplicamos la bibliotea a mi texto\n",
        "for num,oracion in enumerate(doc.sents):\n",
        "    #print(f'{num}: {oracion}') #esta línea se puede comentar\n",
        "    oraciones_lista.append(oracion)\n",
        "#el resultado es 'oraciones_lista' y son oraciones tokenizadas"
      ],
      "execution_count": null,
      "outputs": []
    },
    {
      "cell_type": "code",
      "metadata": {
        "id": "G8Tx1ngVzB0U"
      },
      "source": [
        "# 🔘 ejemplo de tokenización en una lista\n",
        "print(oraciones_lista[10]) #para el análisi de sentimiento no se necesita quitar caracteres especiales"
      ],
      "execution_count": null,
      "outputs": []
    },
    {
      "cell_type": "markdown",
      "metadata": {
        "id": "wc5MpLYN4CHj"
      },
      "source": [
        "### 5.-Empezamos con el análisis de sentimiento"
      ]
    },
    {
      "cell_type": "code",
      "metadata": {
        "id": "WHuA7Nqg4Aio"
      },
      "source": [
        "#7#\n",
        "!pip install spanish_sentiment_analysis #cargamos el algoritmo entrenado en español"
      ],
      "execution_count": null,
      "outputs": []
    },
    {
      "cell_type": "code",
      "metadata": {
        "id": "WzsFqQiL4S9-"
      },
      "source": [
        "#8#\n",
        "#mandamos llamar la funcion clasificadora\n",
        "from classifier import SentimentClassifier\n",
        "clf = SentimentClassifier()"
      ],
      "execution_count": null,
      "outputs": []
    },
    {
      "cell_type": "code",
      "metadata": {
        "id": "Z88b7bGy4kcF"
      },
      "source": [
        "#🔘 hacemos el ejemplo con una oración\n",
        "sentimiento=clf.predict(str(oraciones_lista[10]))\n",
        "sentimiento2=clf.predict(\"un café muy sabroso\")\n",
        "print(sentimiento2)\n",
        "print(sentimiento)"
      ],
      "execution_count": null,
      "outputs": []
    },
    {
      "cell_type": "code",
      "metadata": {
        "id": "A_MTbzpW5dU2"
      },
      "source": [
        "#9# ⏮\n",
        "#############################   Obtener sentimiento ###############################\n",
        "oraciones_lista_sentimiento = []\n",
        "#separator = ','\n",
        "#clf = SentimentClassifier()\n",
        "contador=0\n",
        "for i in oraciones_lista:\n",
        "  sentimi=clf.predict(str(oraciones_lista[contador]))\n",
        "  #print(oraciones_lista[contador],sentimi) #se pueden imprimir\n",
        "  oraciones_lista_sentimiento.append([oraciones_lista[contador],sentimi])\n",
        "  contador=contador+1"
      ],
      "execution_count": null,
      "outputs": []
    },
    {
      "cell_type": "code",
      "metadata": {
        "id": "chCYD4yc8x1t"
      },
      "source": [
        "#10# ⏮\n",
        "########################## Ponemos los sentimientos en un Data Frame###############\n",
        "import pandas as pd #importamos la biblioteca\n",
        "df = pd.DataFrame(oraciones_lista_sentimiento) #convertimos las oraciones en un data frame\n",
        "df.columns = [\"Sentencia\", \"Valor\"] #asignamos nombres a las columnas"
      ],
      "execution_count": null,
      "outputs": []
    },
    {
      "cell_type": "code",
      "metadata": {
        "id": "dYKU7nbclE1g"
      },
      "source": [
        "# 🔘\n",
        "########################## Exportamos en un archivo CSV ############################\n",
        "df.to_csv('nombre_del_archivo.csv', index=False, encoding='utf-8') #podemos exportarlo como csv"
      ],
      "execution_count": null,
      "outputs": []
    },
    {
      "cell_type": "code",
      "metadata": {
        "id": "brAiBFaQfH04"
      },
      "source": [
        "'''\n",
        "LO VOLVI A ABRIR EN BLOC DE NOTAS Y LO VOLVI A GUARDAR COMO CSV PERO COMO ANSII\n",
        "'''"
      ],
      "execution_count": null,
      "outputs": []
    },
    {
      "cell_type": "markdown",
      "metadata": {
        "id": "5FAfsT9Y8sdf"
      },
      "source": [
        "### 6.-Gráficas del análisis de sentimiento"
      ]
    },
    {
      "cell_type": "code",
      "metadata": {
        "id": "g07GOxXO-yQu"
      },
      "source": [
        "#🔘\n",
        "df #ver lo qu ehay en el Data Frame"
      ],
      "execution_count": null,
      "outputs": []
    },
    {
      "cell_type": "code",
      "metadata": {
        "id": "wcVxWD4O_KK3"
      },
      "source": [
        "#11# ⏮\n",
        "#Agregamos tres columnas auxiliares para la gráfica\n",
        "df[\"valor_min\"]=df[\"Valor\"] #agregar columna min\n",
        "df[\"valor_med\"]=df[\"Valor\"] #agregar columna med\n",
        "df[\"valor_max\"]=df[\"Valor\"] #agregar columna max"
      ],
      "execution_count": null,
      "outputs": []
    },
    {
      "cell_type": "code",
      "metadata": {
        "id": "lAnSVxyU_VNY"
      },
      "source": [
        "#df=df.drop(['valor_min'], axis=1)#por si se tiene que eliminar columna"
      ],
      "execution_count": null,
      "outputs": []
    },
    {
      "cell_type": "code",
      "metadata": {
        "id": "wGHNi1Hn_dyf"
      },
      "source": [
        "#12# ⏮\n",
        "############################### Modificamos las tres columnas auxiliares ############################\n",
        "#para maximo configuramos\n",
        "mask = df.valor_max < 0.66\n",
        "column_name = 'valor_max'\n",
        "df.loc[mask, column_name] = -10\n",
        "\n",
        "#para minimo\n",
        "mask = df.valor_min > 0.33\n",
        "column_name = 'valor_min'\n",
        "df.loc[mask, column_name] = -10\n",
        "\n",
        "#para medio\n",
        "mask = (df[\"valor_med\"]<0.33) | (df[\"valor_med\"]>0.66)\n",
        "column_name = 'valor_med'\n",
        "df.loc[mask, column_name] = -10"
      ],
      "execution_count": null,
      "outputs": []
    },
    {
      "cell_type": "code",
      "metadata": {
        "id": "drxKOZRn_p-3"
      },
      "source": [
        "#🔘\n",
        "#vemos como quedó el DF\n",
        "df.head(5)"
      ],
      "execution_count": null,
      "outputs": []
    },
    {
      "cell_type": "code",
      "metadata": {
        "id": "PEpnS4keGuUP"
      },
      "source": [
        "#13# ⏮\n",
        "#Graficamos Horizontalmenta\n",
        "f, ax = plt.subplots(figsize=(10, 4))#Tamaño de la figura largo, ancho \n",
        "ax=plt.xlim(-0.009,) #Limite del axis x\n",
        "ax=plt.title(\"Distribución comentarios\") #Título del Gráfico\n",
        "\n",
        "\n",
        "#Gráfica en Boxplot\n",
        "ax = sns.boxplot(x=\"Valor\", data=df,color=\"White\")\n",
        "\n",
        "ax=plt.xlabel(\"Intensidad de Sentimiento\") #Etiqueta en y\n",
        "plt.show()"
      ],
      "execution_count": null,
      "outputs": []
    },
    {
      "cell_type": "markdown",
      "metadata": {
        "id": "TbL_6z8oEJ9l"
      },
      "source": [
        "### 🛠 7.- Gráfica modificada FINAL!!! 🟠 "
      ]
    },
    {
      "cell_type": "code",
      "metadata": {
        "id": "1l_aJNWRAnvC"
      },
      "source": [
        "#14# ⏮\n",
        "#Obtener estadísticas\n",
        "df[\"Valor\"].describe()"
      ],
      "execution_count": null,
      "outputs": []
    },
    {
      "cell_type": "markdown",
      "metadata": {
        "id": "vYr534PCAdZS"
      },
      "source": [
        "Graficar Horizontalmente"
      ]
    },
    {
      "cell_type": "code",
      "metadata": {
        "id": "hn7dO8ubAcJl"
      },
      "source": [
        "#15# 🟠⏮\n",
        "#Graficamos Horizontalmenta\n",
        "f, ax = plt.subplots(figsize=(15, 5))#Tamaño de la figura largo, ancho \n",
        "ax=plt.xlim(-0.009,) #Limite del axis x\n",
        "ax=plt.title(\"Distribución comentarios\") #Título del Gráfico\n",
        "\n",
        "\n",
        "#Gráfica en Boxplot\n",
        "ax = sns.boxplot(x=\"Valor\", data=df,color=\"White\")\n",
        "\n",
        "'''\n",
        "#Poner los puntos encima del gráfico\n",
        "ax =sns.swarmplot(x=\"valor_min\",data=df, size=4,color=\"red\") #swarmplot o stripplot\n",
        "ax =sns.swarmplot(x=\"valor_max\",data=df, size=4, color=\"green\") #swarmplot tarda más\n",
        "ax =sns.swarmplot(x=\"valor_med\",data=df, size=4,color=\"orange\" )\n",
        "'''\n",
        "\n",
        "'''\n",
        "#Agregar etiquetas (tiks) en el Gráfico\n",
        "ax.text(0.42,0.3, \"cuartil1 0.42\", weight=\"bold\",size=12,ha='right') # backgroundcolor='red'\n",
        "ax.text(0.71,-0.2, \"mediana 0.71\", weight=\"bold\",size=12,ha='right')#color=\"green\"\n",
        "ax.text(0.92,0.3, \"cuartil3 0.92\",weight=\"bold\",size=12,ha='right')\n",
        "'''\n",
        "\n",
        "ax=plt.xlabel(\"Intensidad de Sentimiento\") #Etiqueta en y\n",
        "plt.show()"
      ],
      "execution_count": null,
      "outputs": []
    },
    {
      "cell_type": "markdown",
      "metadata": {
        "id": "bXizNqPGF4XL"
      },
      "source": [
        "Graficamos Verticalmente"
      ]
    },
    {
      "cell_type": "code",
      "metadata": {
        "id": "TOCbg6vG_tIL"
      },
      "source": [
        "#16# 🟠⏮\n",
        "#Graficamos Verticalmente\n",
        "f, ax = plt.subplots(figsize=(6, 8))#Tamaño de la figura largo, ancho \n",
        "ax=plt.ylim(-0.009,) #Limite del axis y\n",
        "ax=plt.title(\"Distribución comentarios Café Soluble\") #Título del Gráfico\n",
        "\n",
        "\n",
        "#Gráfica en Boxplot\n",
        "ax = sns.boxplot(y=\"Valor\", data=df,color=\"White\")\n",
        "\n",
        "'''\n",
        "#Poner los puntos encima del gráfico\n",
        "ax =sns.swarmplot(y=\"valor_min\",data=df, size=4,color=\"red\") #swarmplot o stripplot\n",
        "ax =sns.swarmplot(y=\"valor_max\",data=df, size=4, color=\"green\") #swarmplot tarda más\n",
        "ax =sns.swarmplot(y=\"valor_med\",data=df, size=4,color=\"orange\" )\n",
        "'''\n",
        "'''\n",
        "#Agregar etiquetas (tiks) en el Gráfico\n",
        "ax.text(0.4,0.42,\"cuartil 1 0.42\",weight=\"bold\",size=13,ha='center') # backgroundcolor='red'\n",
        "ax.text(0.4,0.71,\"mediana 0.71\", weight=\"bold\",size=13,ha='center')#color=\"green\"\n",
        "ax.text(0.4,0.92,\"cuartil 3 0.92\",weight=\"bold\",size=13,ha='center')\n",
        "'''\n",
        "ax=plt.ylabel(\"Intensidad de Sentimiento\") #Etiqueta en y\n",
        "plt.show()\n"
      ],
      "execution_count": null,
      "outputs": []
    }
  ]
}