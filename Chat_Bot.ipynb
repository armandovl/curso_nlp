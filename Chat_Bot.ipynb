{
  "nbformat": 4,
  "nbformat_minor": 0,
  "metadata": {
    "kernelspec": {
      "display_name": "Python 3",
      "language": "python",
      "name": "python3"
    },
    "language_info": {
      "codemirror_mode": {
        "name": "ipython",
        "version": 3
      },
      "file_extension": ".py",
      "mimetype": "text/x-python",
      "name": "python",
      "nbconvert_exporter": "python",
      "pygments_lexer": "ipython3",
      "version": "3.7.3"
    },
    "colab": {
      "name": "Chat Bot",
      "provenance": [],
      "collapsed_sections": [],
      "toc_visible": true,
      "include_colab_link": true
    }
  },
  "cells": [
    {
      "cell_type": "markdown",
      "metadata": {
        "id": "view-in-github",
        "colab_type": "text"
      },
      "source": [
        "<a href=\"https://colab.research.google.com/github/armandovl/curso_nlp/blob/main/Chat_Bot.ipynb\" target=\"_parent\"><img src=\"https://colab.research.google.com/assets/colab-badge.svg\" alt=\"Open In Colab\"/></a>"
      ]
    },
    {
      "cell_type": "code",
      "metadata": {
        "id": "d2vm90Y7j057"
      },
      "source": [
        "import nltk\n",
        "import numpy as np\n",
        "import random\n",
        "import string"
      ],
      "execution_count": null,
      "outputs": []
    },
    {
      "cell_type": "code",
      "metadata": {
        "id": "hp-xcN4dmY1a"
      },
      "source": [
        "nltk.download('punkt')"
      ],
      "execution_count": null,
      "outputs": []
    },
    {
      "cell_type": "code",
      "metadata": {
        "id": "m5OT26Cam_n2"
      },
      "source": [
        "nltk.download('stopwords')"
      ],
      "execution_count": null,
      "outputs": []
    },
    {
      "cell_type": "code",
      "metadata": {
        "id": "m1U5mNe-nJY4"
      },
      "source": [
        "nltk.download('wordnet')"
      ],
      "execution_count": null,
      "outputs": []
    },
    {
      "cell_type": "markdown",
      "metadata": {
        "id": "uGzVyuNcj059"
      },
      "source": [
        "# 1 DEFINICIÓN CORPUS"
      ]
    },
    {
      "cell_type": "code",
      "metadata": {
        "id": "xANuRPqslLUd"
      },
      "source": [
        "archivo=open(\"coment_cafe_capsulas.txt\",\"r\")\n",
        "raw=archivo.read()"
      ],
      "execution_count": null,
      "outputs": []
    },
    {
      "cell_type": "markdown",
      "metadata": {
        "id": "87On9oLNj059"
      },
      "source": [
        "# 2a Preprocesamiento del Texto con NTLK CORPUS"
      ]
    },
    {
      "cell_type": "code",
      "metadata": {
        "id": "cVY41pSGj059"
      },
      "source": [
        "raw=raw.lower()# convertir en minúscula\n",
        "#nltk.download('punkt') # Instalar módulo punkt si no está ya instalado (solo ejecutar la primera vez)\n",
        "#nltk.download('wordnet') # Instalar módulo wordnet si no está ya instalado (solo ejecutar la primera vez)\n",
        "sent_tokens = nltk.sent_tokenize(raw)# Convierte el CORPUS a una lista de sentencias\n",
        "word_tokens = nltk.word_tokenize(raw)# Convierte el CORPUS a una lista de palabras\n",
        "lemmer = nltk.stem.WordNetLemmatizer()\n",
        "\n",
        "#WordNet diccionario semántico incluido en NLTK\n",
        "def LemTokens(tokens):\n",
        "    return [lemmer.lemmatize(token) for token in tokens]\n",
        "\n",
        "remove_punct_dict = dict((ord(punct), None) for punct in string.punctuation)\n",
        "def LemNormalize(text):\n",
        "    return LemTokens(nltk.word_tokenize(text.lower().translate(remove_punct_dict)))"
      ],
      "execution_count": null,
      "outputs": []
    },
    {
      "cell_type": "markdown",
      "metadata": {
        "id": "ISBRkjLxj059"
      },
      "source": [
        "# 2b PREPROCESAMIENTO DEL TEXTO + 3 Evaluar Similitud MENSAJE USUARIO - CORPUS"
      ]
    },
    {
      "cell_type": "code",
      "metadata": {
        "id": "QytWNZj9j05-"
      },
      "source": [
        "from sklearn.feature_extraction.text import TfidfVectorizer\n",
        "from sklearn.metrics.pairwise import cosine_similarity\n",
        "from nltk.corpus import stopwords\n",
        "\n",
        "#Función para determinar la similitud del texto insertado y el corpus\n",
        "def response(user_response):\n",
        "    robo_response=''\n",
        "    sent_tokens.append(user_response) #Añade al corpus la respuesta de usuario al final\n",
        "    TfidfVec = TfidfVectorizer(tokenizer=LemNormalize, stop_words=stopwords.words('spanish'))\n",
        "    tfidf = TfidfVec.fit_transform(sent_tokens)\n",
        "    # 3 EVALUAR SIMILITUD DE COSENO ENTRE MENSAJE USUARIO (tfidf[-1]) y el CORPUS (tfidf)\n",
        "    vals = cosine_similarity(tfidf[-1], tfidf)\n",
        "    idx=vals.argsort()[0][-2]\n",
        "    flat = vals.flatten()\n",
        "    flat.sort()\n",
        "    req_tfidf = flat[-2]\n",
        "    \n",
        "    if(req_tfidf==0):\n",
        "        robo_response=robo_response+\"Lo siento, no te he entendido. Si no puedo responder a lo que busca póngase en contacto con soporte@soporte.com\"\n",
        "        return robo_response\n",
        "\n",
        "    else:\n",
        "        robo_response = robo_response+sent_tokens[idx]\n",
        "        return robo_response"
      ],
      "execution_count": null,
      "outputs": []
    },
    {
      "cell_type": "markdown",
      "metadata": {
        "id": "71V0dPRbj05-"
      },
      "source": [
        "# 4 DEFINICIÓN DE COINCIDENCIAS MANUAL"
      ]
    },
    {
      "cell_type": "code",
      "metadata": {
        "id": "5v23a0anj05_"
      },
      "source": [
        "SALUDOS_INPUTS = (\"hola\", \"buenas\", \"saludos\", \"qué tal\", \"hey\",\"buenos dias\",)\n",
        "SALUDOS_OUTPUTS = [\"Hola\", \"Hola, ¿Qué tal?\", \"Hola, ¿Cómo te puedo ayudar?\", \"Hola, encantado de hablar contigo\"]\n",
        "\n",
        "def saludos(sentence):\n",
        "    for word in sentence.split():\n",
        "        if word.lower() in SALUDOS_INPUTS:\n",
        "            return random.choice(SALUDOS_OUTPUTS)"
      ],
      "execution_count": null,
      "outputs": []
    },
    {
      "cell_type": "markdown",
      "metadata": {
        "id": "hj6dYOI_j05_"
      },
      "source": [
        "# 5 GENERACIÓN DE RESPUESTA"
      ]
    },
    {
      "cell_type": "code",
      "metadata": {
        "id": "cScBjTeCmiN8"
      },
      "source": [
        ""
      ],
      "execution_count": null,
      "outputs": []
    },
    {
      "cell_type": "code",
      "metadata": {
        "id": "IpP3mKWWj05_"
      },
      "source": [
        "flag=True\n",
        "print(\"IA: Mi nombre es IA. Contestaré a tus preguntas acerca del texto. Si quieres salir, escribe 'salir' \")\n",
        "while(flag==True):\n",
        "    user_response = input()\n",
        "    user_response = user_response.lower() #Convertimos a minúscula\n",
        "    \n",
        "    if(user_response!='salir'):\n",
        "        \n",
        "        if(user_response=='gracias' or user_response=='muchas gracias'): #Se podría haber definido otra función de coincidencia manual\n",
        "            flag=True\n",
        "            print(\"IA: No hay de qué\")\n",
        "            \n",
        "        else:\n",
        "            if(saludos(user_response)!=None): #Si la palabra insertada por el usuario es un saludo (Coincidencias manuales definidas previamente)\n",
        "                print(\"IA: \"+saludos(user_response))\n",
        "                \n",
        "            else: #Si la palabra insertada no es un saludo --> CORPUS\n",
        "                print(\"IA: \",end=\"\") \n",
        "                print(response(user_response))\n",
        "                sent_tokens.remove(user_response) # para eliminar del corpus la respuesta del usuario y volver a evaluar con el CORPUS limpio\n",
        "    else:\n",
        "        flag=False\n",
        "        print(\"IA: Nos vemos pronto, ¡cuídate!\")"
      ],
      "execution_count": null,
      "outputs": []
    }
  ]
}