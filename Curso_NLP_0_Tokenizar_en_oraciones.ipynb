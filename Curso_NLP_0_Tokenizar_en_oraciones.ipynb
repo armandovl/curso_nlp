{
  "nbformat": 4,
  "nbformat_minor": 0,
  "metadata": {
    "colab": {
      "name": "Curso NLP 0 Tokenizar en oraciones.ipynb",
      "provenance": [],
      "collapsed_sections": [
        "OHH6zimivMYu",
        "VzVWM6uuvW1v",
        "T0d1T6LQvjwe"
      ],
      "include_colab_link": true
    },
    "kernelspec": {
      "name": "python3",
      "display_name": "Python 3"
    }
  },
  "cells": [
    {
      "cell_type": "markdown",
      "metadata": {
        "id": "view-in-github",
        "colab_type": "text"
      },
      "source": [
        "<a href=\"https://colab.research.google.com/github/armandovl/curso_nlp/blob/main/Curso_NLP_0_Tokenizar_en_oraciones.ipynb\" target=\"_parent\"><img src=\"https://colab.research.google.com/assets/colab-badge.svg\" alt=\"Open In Colab\"/></a>"
      ]
    },
    {
      "cell_type": "markdown",
      "metadata": {
        "id": "OnnsRVx7jEc7"
      },
      "source": [
        "<img src=\"https://i1.wp.com/www.sopitas.com/wp-content/uploads/2014/08/Tec-de-Monterrey-Logo-640x581.jpg\" width=\"70\"/> \n",
        "<h5>ITESM Campus Santa Fe <br> Armando Valdés </h5>"
      ]
    },
    {
      "cell_type": "markdown",
      "metadata": {
        "id": "OHH6zimivMYu"
      },
      "source": [
        "#### 1.-Importar las bibliotecas"
      ]
    },
    {
      "cell_type": "code",
      "metadata": {
        "id": "Ce2U1ewTn2gB"
      },
      "source": [
        "#1#\n",
        "# Importar las bibliotecas \n",
        "import nltk\n",
        "from nltk.tokenize import sent_tokenize, word_tokenize #para tokenizar en oraciones\n",
        "nltk.download('punkt') #complemeto de nltk"
      ],
      "execution_count": null,
      "outputs": []
    },
    {
      "cell_type": "markdown",
      "metadata": {
        "id": "VzVWM6uuvW1v"
      },
      "source": [
        "#### 2.-Importar el archivo en excel y aplicar la tokenización"
      ]
    },
    {
      "cell_type": "code",
      "metadata": {
        "id": "gRE6ZbkOnZcZ"
      },
      "source": [
        "#2#\n",
        "# Importar el archivo en excel\n",
        "#no es necesario quitar saltos de línea ni ñ o caracteres  especiales !...? en el excel\n",
        "import pandas as pd\n",
        "df3 = pd.read_excel(\"comentarios_largo_soluble.xlsx\") #exte excel solo tiene la columna (mensaje)\n",
        "df3= df3[df3['largo'] >= 100] #solo vamos a tokenizar los que tienen un largo de 100 o mayor\n",
        "df3[\"frases\"] = df3[\"mensaje\"].apply(lambda i: sent_tokenize(i)) #tokenizamos las frases"
      ],
      "execution_count": null,
      "outputs": []
    },
    {
      "cell_type": "markdown",
      "metadata": {
        "id": "Fl6c6YFlZ3fV"
      },
      "source": [
        "##### Contador de palabras en excel"
      ]
    },
    {
      "cell_type": "markdown",
      "metadata": {
        "id": "gh06HUG7aPCo"
      },
      "source": [
        "\n",
        " =LARGO(A1)-LARGO(SUSTITUIR(A1,\" \",\"\"))+1"
      ]
    },
    {
      "cell_type": "markdown",
      "metadata": {
        "id": "T0d1T6LQvjwe"
      },
      "source": [
        "#### 3.-Exportar el archivo"
      ]
    },
    {
      "cell_type": "code",
      "metadata": {
        "id": "GI9wUklsnnco"
      },
      "source": [
        "#3#\n",
        "#exportar el archivo\n",
        "df3[\"frases\"].to_csv(\"comentarios_tokenizados_soluble.csv\",index=False, encoding='utf-8-sig')#encoding='utf-8'"
      ],
      "execution_count": null,
      "outputs": []
    },
    {
      "cell_type": "markdown",
      "metadata": {
        "id": "a-1Y-A4gHAje"
      },
      "source": [
        "4 Tratamiento del archivo (comas)"
      ]
    },
    {
      "cell_type": "markdown",
      "metadata": {
        "id": "dpxTVe57ttNa"
      },
      "source": [
        "1.- Reemplazar [' con nada <br>\n",
        "2.-Reemplazar '] con nada <br>\n",
        "3.-Reemplazar ' con nada <br>\n",
        "4.-Delimitar por comas <br>\n",
        "5.-Filtrar para ver de donde a donde será la macro\n",
        "6.-Aplicar la macro <br>\n",
        "7.-seleccionar columna-->f5--> ir a especial\n",
        "--> seleccionar celdas en blanco-->seleccionar una clic derecho eliminar, desplazar hacia arriba <br>\n",
        "8.-Hacer una depuracion rápida <br>\n",
        "9.-Quitar espacios =espacios() <br>\n",
        "10.-Reemplazar \\n (si es que hay) <br>\n",
        "11.-Encabezado \"mensaje\" <br>\n",
        "12.-Eliminar la macro"
      ]
    },
    {
      "cell_type": "markdown",
      "metadata": {
        "id": "r9CeFuNiVGaz"
      },
      "source": [
        "4 Tratamiento del archivo (frases)"
      ]
    },
    {
      "cell_type": "markdown",
      "metadata": {
        "id": "2G3XAre4IpPW"
      },
      "source": [
        "1.- Reemplazar [' con nada <br>\n",
        "2.-Reemplazar '] con nada <br>\n",
        "3.-Reemplazar ',' con # <br>\n",
        "4.-Delimitar por # <br>\n",
        "5.-Filtrar para ver de donde a donde será la macro\n",
        "6.-Aplicar la macro <br>\n",
        "7.-seleccionar columna-->f5--> ir a especial\n",
        "--> seleccionar celdas en blanco-->seleccionar una clic derecho eliminar, desplazar hacia arriba <br>\n",
        "8.-Hacer una depuracion rápida <br>\n",
        "9.-Quitar espacios =espacios() <br>\n",
        "10.-Reemplazar \\n (si es que hay) <br>\n",
        "11.-Encabezado \"mensaje\" <br>\n",
        "12.-Eliminar la macro\n",
        "\n",
        "\n"
      ]
    },
    {
      "cell_type": "markdown",
      "metadata": {
        "id": "o6Uu5zP4Bzy3"
      },
      "source": [
        "Macro"
      ]
    },
    {
      "cell_type": "code",
      "metadata": {
        "id": "YsyiWFf5B-s_"
      },
      "source": [
        "#Macro Unir Columnas\n",
        "\n",
        "'Macro unir columnas\n",
        "Sub unir_columnas()\n",
        "'Por Armando Valdés\n",
        "ci = Columns(\"C\").Column 'columna inicial a unir\n",
        "cf = Columns(\"O\").Column 'columna final a unir\n",
        "cd = Columns(\"Z\").Column 'columna unión\n",
        "f = 1 'fila inicial de datos\n",
        "For i = ci To cf\n",
        "    uf = Cells(Rows.Count, i).End(xlUp).Row\n",
        "    ud = Cells(Rows.Count, cd).End(xlUp).Row + 1\n",
        "    Range(Cells(f, i), Cells(uf, i)).Copy Cells(ud, cd)\n",
        "Next\n",
        "End Sub"
      ],
      "execution_count": null,
      "outputs": []
    }
  ]
}